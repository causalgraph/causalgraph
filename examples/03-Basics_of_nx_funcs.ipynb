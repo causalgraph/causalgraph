{
 "cells": [
  {
   "cell_type": "markdown",
   "metadata": {},
   "source": [
    "# Plotting causalgraph (cg) graphs\n",
    "\n",
    "### Procedure:\n",
    "1. Create cg graph\n",
    "2. Convert cg graph to NetworkX (nx) graph\n",
    "3. Safe nx graph as .gml- and .graphml-file (Optional)\n",
    "4. Plot nx graph"
   ]
  },
  {
   "cell_type": "markdown",
   "metadata": {},
   "source": [
    "### 0. Loading modules"
   ]
  },
  {
   "cell_type": "code",
   "execution_count": null,
   "metadata": {},
   "outputs": [],
   "source": [
    "import os\n",
    "import sys\n",
    "sys.path.append('../causalgraph/store/')\n",
    "sys.path.insert(1, os.path.join(sys.path[0], '..'))\n",
    "# causalgraph imports\n",
    "from causalgraph import Graph\n",
    "import causalgraph.utils.owlready2_utils as owl2utils"
   ]
  },
  {
   "cell_type": "markdown",
   "metadata": {},
   "source": [
    "### 1. Create cg graph"
   ]
  },
  {
   "cell_type": "code",
   "execution_count": null,
   "metadata": {},
   "outputs": [],
   "source": [
    "# Init graph\n",
    "G = Graph(sql_db_filename='plotdb.sqlite3')\n",
    "# Add creators\n",
    "creator_1_name = G.add.individual_of_type(\"Creator\", name_for_individual=\"creator_1\")\n",
    "creator_1 = owl2utils.get_entity_by_name(creator_1_name, G.store)\n",
    "creator_2_name = G.add.individual_of_type(\"Creator\", name_for_individual=\"creator_2\")\n",
    "creator_2 = owl2utils.get_entity_by_name(creator_2_name, G.store)\n",
    "# Add nodes\n",
    "G.add.causal_node(\"node_1\")\n",
    "G.add.causal_node(\"node_2\")\n",
    "G.add.causal_node(\"node_3\")\n",
    "G.add.causal_node(\"node_4\")\n",
    "# Add edges\n",
    "G.add.causal_edge(\"node_1\", \"node_2\", \"edge_1_c\", time_lag_s=1, confidence=0.5, hasCreator=[creator_1])\n",
    "G.add.causal_edge(\"node_3\", \"node_4\", \"edge_2_c\", time_lag_s=5, confidence=0.25, hasCreator=[creator_2])\n",
    "G.add.causal_edge(\"node_1\", \"node_3\", \"edge_3_c\", time_lag_s=1, confidence=0.5, hasCreator=[creator_1])\n",
    "G.add.causal_node(\"node_1\", hasCreator=[creator_1])"
   ]
  },
  {
   "cell_type": "markdown",
   "metadata": {},
   "source": [
    "### 2. Convert cg graph to NetworkX (nx) graph"
   ]
  },
  {
   "cell_type": "code",
   "execution_count": null,
   "metadata": {},
   "outputs": [],
   "source": [
    "G_nx = G.export.nx()"
   ]
  },
  {
   "cell_type": "markdown",
   "metadata": {},
   "source": [
    "### 3. Safe nx graph as .gml (Optional)"
   ]
  },
  {
   "cell_type": "code",
   "execution_count": null,
   "metadata": {},
   "outputs": [],
   "source": [
    "G.export.gml(directory='.', filename='exported_file')"
   ]
  },
  {
   "cell_type": "markdown",
   "metadata": {},
   "source": [
    "### 4. Plot nx graph"
   ]
  },
  {
   "cell_type": "code",
   "execution_count": null,
   "metadata": {},
   "outputs": [],
   "source": [
    "# Create and save plot\n",
    "G.draw.nx(directory='.', filename='plot_test')\n",
    "\n",
    "# Plotting without saving the plot as image file\n",
    "G.draw.nx()"
   ]
  },
  {
   "cell_type": "markdown",
   "metadata": {},
   "source": [
    "### 5. Create properties dict from nx graph"
   ]
  },
  {
   "cell_type": "code",
   "execution_count": null,
   "metadata": {},
   "outputs": [],
   "source": [
    "nx_graph_dict = G.map.graph_dict_from_nx(G_nx)"
   ]
  },
  {
   "cell_type": "markdown",
   "metadata": {},
   "source": [
    "### 6. Create properties dict from cg graph and compare with nx property dict"
   ]
  },
  {
   "cell_type": "code",
   "execution_count": null,
   "metadata": {},
   "outputs": [],
   "source": [
    "import json\n",
    "cg_graph_dict = G.map.all_individuals_to_dict()\n",
    "\n",
    "if (nx_graph_dict == cg_graph_dict):\n",
    "    print(\"Is the same in green.\")\n",
    "    print(json.dumps(nx_graph_dict, indent=2))"
   ]
  }
 ],
 "metadata": {
  "kernelspec": {
   "display_name": "Python 3.10.4 ('causalgraph')",
   "language": "python",
   "name": "python3"
  },
  "language_info": {
   "codemirror_mode": {
    "name": "ipython",
    "version": 3
   },
   "file_extension": ".py",
   "mimetype": "text/x-python",
   "name": "python",
   "nbconvert_exporter": "python",
   "pygments_lexer": "ipython3",
   "version": "3.10.6 (main, Oct  7 2022, 20:19:58) [GCC 11.2.0]"
  },
  "vscode": {
   "interpreter": {
    "hash": "10e60118e15557b77f52e4e5cde274a31e702cb83202282b765a38d4d9e29b5c"
   }
  }
 },
 "nbformat": 4,
 "nbformat_minor": 2
}
