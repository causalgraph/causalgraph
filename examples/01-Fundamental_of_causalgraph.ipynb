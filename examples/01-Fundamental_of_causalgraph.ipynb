{
 "cells": [
  {
   "attachments": {},
   "cell_type": "markdown",
   "id": "25697245",
   "metadata": {},
   "source": [
    "# causalgraph Basics\n",
    "\n",
    "This tutorial describes the basic architecture and functionalities of the causalgraph module.\n",
    "\n",
    "Required packages to run this tutorial are:\n",
    "- jupyter (to run this notebook)\n",
    "- [owlready2 0.35](https://owlready2.readthedocs.io/en/v0.35/) (backend for the causalgraph store)\n",
    "\n",
    "#### Beneficial prior knowledge\n",
    "causalgraph (cg) relies on semantic technology, mainly through the python package 'owlready2'.\n",
    "The core functions are already implemented in owlready2 and wrapped in cg to avoid misuse. Therefore, the author advises to look at the tool [owlready2](https://owlready2.readthedocs.io/en/v0.35/) and get to know some of its essential functionality. Especially the tutorial on [creating individuals](https://owlready2.readthedocs.io/en/v0.35/class.html) is an excellent basic knowledge to get to know the inner workings of cg."
   ]
  },
  {
   "attachments": {},
   "cell_type": "markdown",
   "id": "ab562bc7",
   "metadata": {},
   "source": [
    "### Understanding the available classes in the ontology\n",
    "\n",
    "The ontology describes the classes and the allowed relations between its instances (called 'individuals' in semantic web speech).  \n",
    "The **'causalgraph-ontology'** is maintained [as part of the causalgraph group as well](https://github.com/causalgraph/causalgraph-ontology)\n",
    "\n",
    "To understand the available classes and relations, it's best to look at the documentation of the ontology found here: **https://causalgraph.github.io/causalgraph-ontology/**.\n",
    "\n",
    "\n",
    "#### CausalNodes and CausalEdges\n",
    "The most important concept for this tutorial is the relation between [*CausalNodes*](https://causalgraph.github.io/causalgraph-ontology/#CausalNode) and [*CausalEdges*](https://causalgraph.github.io/causalgraph-ontology/#CausalEdge). \n",
    "\n",
    "##### CausalNodes\n",
    "A CausalNode can either represent an effect, a cause or both (e.g. effect of Node1 and cause for Node3).  \n",
    "CausalNodes are not causally connected by direct link, but through an Individual of Type *CausalEdge*:\n",
    "\n",
    "![](https://mermaid.ink/svg/eyJjb2RlIjoiZ3JhcGggVERcbiAgICBzdWJncmFwaCBDYXVzYWwgU3RydWN0dXJlXG4gICAgICAgIEVkZ2V7Q2F1c2FsRWRnZX0gLS0-IHxoYXNfY2F1c2V8IE5vZGUxKENhdXNhbE5vZGUpXG4gICAgICAgIEVkZ2UgLS0-IHxoYXNfZWZmZWN0fCBOb2RlMihDYXVzYWxOb2RlKVxuICAgIGVuZCBcblxuICAgICIsIm1lcm1haWQiOnsidGhlbWUiOiJkZWZhdWx0In0sInVwZGF0ZUVkaXRvciI6ZmFsc2UsImF1dG9TeW5jIjp0cnVlLCJ1cGRhdGVEaWFncmFtIjpmYWxzZX0)\n",
    "\n",
    "##### CausalEdges\n",
    "The CausalEdge is introduced to hold further information about the causal connection. E.g.:\n",
    "- *Confidence* (in it's existence), \n",
    "- *Creator* (Human Expert or ML-Algorithm), \n",
    "- *TimeLag* between Cause and Effect,\n",
    "- ... \n",
    "\n",
    "This is not modeled in *causalgraph-ontology* yet, but can be imagined similarly to this:\n",
    "\n",
    "![](https://mermaid.ink/svg/eyJjb2RlIjoiZ3JhcGggVERcbiAgICBzdWJncmFwaCBDYXVzYWwgU3RydWN0dXJlXG4gICAgICAgIEVkZ2V7Q2F1c2FsRWRnZX0gLS0-IHxoYXNfY2F1c2V8IE5vZGUxKENhdXNhbE5vZGUpXG4gICAgICAgIEVkZ2UgLS0-IHxoYXNfZWZmZWN0fCBOb2RlMihDYXVzYWxOb2RlKVxuICAgIGVuZCBcbiAgICBzdWJncmFwaCBBZGRpdG9uYWwgQ2F1c2FsIEVkZ2UgSW5mb3JtYXRpb25cbiAgICAgICAgRWRnZSAtLT4gfGhhc19jcmVhdG9yfCBDcmVhdG9yWy4uLkNyZWF0b3JdXG4gICAgICAgIEVkZ2UgLS0-IHxoYXNfdGltZV9sYWd8IFRpbWVsYWdbLi4uVGltZWxhZ11cbiAgICBlbmRcbiAgICAiLCJtZXJtYWlkIjp7InRoZW1lIjoiZGVmYXVsdCJ9LCJ1cGRhdGVFZGl0b3IiOmZhbHNlLCJhdXRvU3luYyI6dHJ1ZSwidXBkYXRlRGlhZ3JhbSI6ZmFsc2V9)\n"
   ]
  },
  {
   "cell_type": "markdown",
   "id": "22cd0dac",
   "metadata": {},
   "source": [
    "## Working with the 'cg' module\n",
    "\n",
    "### Loading the module\n",
    "The facade class for the module is 'Graph' which is loaded below."
   ]
  },
  {
   "cell_type": "code",
   "execution_count": null,
   "id": "84f0a453",
   "metadata": {},
   "outputs": [],
   "source": [
    "# load the requirements and the module\n",
    "# add the current path to the sys.path to find 'causalgraph.Graph'\n",
    "import os\n",
    "import sys\n",
    "sys.path.insert(1, os.path.join(sys.path[0], '..'))\n",
    "# general imports\n",
    "import time\n",
    "# causalgraph imports\n",
    "import causalgraph.utils.owlready2_utils as owlutils\n",
    "from causalgraph.utils.path_utils import get_project_root\n",
    "print(get_project_root())"
   ]
  },
  {
   "cell_type": "code",
   "execution_count": null,
   "id": "209e4836",
   "metadata": {},
   "outputs": [],
   "source": [
    "# load the 'Graph' module\n",
    "from causalgraph import Graph"
   ]
  },
  {
   "cell_type": "markdown",
   "id": "bae597db",
   "metadata": {},
   "source": [
    "### Instantiate the 'Graph'\n",
    "\n",
    "During instantiation, the '**Graph**' loads the class-structure-defining ontology ('onto' in the examples at [owlready2-docs](https://owlready2.readthedocs.io/en/v0.35/onto.html)) into **Graph.store**.\n",
    "\n",
    "This ontology and the individuals created from it are saved in sqlite3 quadstore, which is linked by the attribute **Graph.world**. To read more about an owlready2.World please refer to ['owlready2.World'](https://owlready2.readthedocs.io/en/v0.35/world.html)."
   ]
  },
  {
   "cell_type": "code",
   "execution_count": null,
   "id": "e1ba834e",
   "metadata": {},
   "outputs": [],
   "source": [
    "# specify new sqlite db for this example\n",
    "# delete old SQL-DB if exists (restart of kernel may be necessary)\n",
    "sql_file_name='example1.sqlite3'\n",
    "if os.path.exists(sql_file_name):\n",
    "    os.remove(sql_file_name)\n",
    "    print(f\"Deleted old db with name {sql_file_name}\")\n",
    "# Init Graph\n",
    "G = Graph(sql_db_filename=sql_file_name)"
   ]
  },
  {
   "cell_type": "markdown",
   "id": "14e3b1cf",
   "metadata": {},
   "source": [
    "#### Show that the classes are loaded and no individuals exist\n",
    "\n",
    "The Ontology is accessable with *Graph.store*. To show its available classes, properties and individuals (none initially) we do the following:"
   ]
  },
  {
   "cell_type": "code",
   "execution_count": null,
   "id": "66df1280",
   "metadata": {},
   "outputs": [],
   "source": [
    "# available classes and properties:\n",
    "print(f\"Available classes:\\n {list(G.store.classes())}\\n\")\n",
    "print(f\"Available properties:\\n {list(G.store.properties())}\\n\")\n",
    "# at startup no individuals are available:\n",
    "print(f\"Available individuals:\\n {list(G.store.individuals())}\")"
   ]
  },
  {
   "cell_type": "markdown",
   "id": "e5d086c9",
   "metadata": {},
   "source": [
    "#### Add CausalNodes and CausalEdges\n",
    "\n",
    "All the 'Add' functions are grouped in the Object *Graph.add*. Therefore one can add CausalEdges and CausalNodes in the following way:"
   ]
  },
  {
   "cell_type": "code",
   "execution_count": null,
   "id": "c49a45b2",
   "metadata": {},
   "outputs": [],
   "source": [
    "# add two CausalNodes and show these individuals:\n",
    "G.add.causal_node(\"cause\")\n",
    "G.add.causal_node(\"effect\")\n",
    "print(f\"Now we have these individuals:\\n {list(G.store.individuals())}\")"
   ]
  },
  {
   "cell_type": "code",
   "execution_count": null,
   "id": "418a33de",
   "metadata": {},
   "outputs": [],
   "source": [
    "# Add a CausalEdge between those two nodes:\n",
    "G.add.causal_edge(\"cause\", \"effect\", \"causal_edge\")\n",
    "print(f\"Now we have these individuals:\\n {list(G.store.individuals())}\")"
   ]
  },
  {
   "cell_type": "code",
   "execution_count": null,
   "id": "45ebe920",
   "metadata": {},
   "outputs": [],
   "source": [
    "# Add a CausalEdge between 'effect' and 'another_cause'\n",
    "G.add.causal_node(\"another_cause\")\n",
    "G.add.causal_edge('another_cause', 'effect', \"another_edge\")\n",
    "print(f\"Not we have these individuals:\\n {list(G.store.individuals())}\")"
   ]
  },
  {
   "cell_type": "markdown",
   "id": "49ee0274",
   "metadata": {},
   "source": [
    "#### Show the properties of 'cg_store.effect' and 'cg_store.causal_edge'\n",
    "With functions from owlready2, one can visualize the properties of individuals. We will do this for the CausalNode ```cg_store.effect``` which has the incoming edge ```cg_store_causal_edge``` and the outgoing edge ```cg_store.another_edge```. Printing the properties of CausalEdge ```cg_store.causal_edge``` shows that it connects the nodes ```cg_store.effect``` and ```cg_store.cause```."
   ]
  },
  {
   "cell_type": "code",
   "execution_count": null,
   "id": "2810f7bb",
   "metadata": {},
   "outputs": [],
   "source": [
    "# Inspect 'cg_store.effect'\n",
    "inspected_node = owlutils.get_entity_by_name('effect', G.store)\n",
    "for prop in inspected_node.get_properties():\n",
    "    for value in prop[inspected_node]:\n",
    "        print(\".%s == %s\" % (prop.python_name, value))"
   ]
  },
  {
   "cell_type": "code",
   "execution_count": null,
   "id": "9cb12213",
   "metadata": {},
   "outputs": [],
   "source": [
    "# Inspect 'cg_store.causal_edge'\n",
    "inspected_node = owlutils.get_entity_by_name('causal_edge', G.store)\n",
    "for prop in inspected_node.get_properties():\n",
    "    for value in prop[inspected_node]:\n",
    "        print(\".%s == %s\" % (prop.python_name, value))"
   ]
  },
  {
   "cell_type": "code",
   "execution_count": null,
   "id": "18a75b6f",
   "metadata": {},
   "outputs": [],
   "source": [
    "# Visualize resulting graph\n",
    "G.draw.nx()\n",
    "#G.draw.html(directory='.', filename='test')"
   ]
  },
  {
   "cell_type": "markdown",
   "id": "b044e80c",
   "metadata": {},
   "source": [
    "##### Remove CausalNodes and CausalEdges\n",
    "\n",
    "The ```Remove``` functions are grouped in the Object ```Graph.remove```. Therefore one can remove CausalEdges and CausalNodes in the following way:"
   ]
  },
  {
   "cell_type": "code",
   "execution_count": null,
   "id": "c1d824ba",
   "metadata": {},
   "outputs": [],
   "source": [
    "# Remove two CausalNodes and show the rest of individuals:\n",
    "print(\"Graph before remove\")\n",
    "G.draw.nx()\n",
    "G.remove.causal_node(\"another_cause\",)\n",
    "print(\"Graph after remove\")\n",
    "G.draw.nx()\n",
    "print(f\"Now we have these individuals:\\n {list(G.store.individuals())}\")"
   ]
  },
  {
   "cell_type": "markdown",
   "id": "112c3c17",
   "metadata": {},
   "source": [
    "remove causal edges "
   ]
  },
  {
   "cell_type": "code",
   "execution_count": null,
   "id": "9731893c",
   "metadata": {},
   "outputs": [],
   "source": [
    "# Remove one edge and show the rest of individuals:\n",
    "print(\"Graph before remove\")\n",
    "G.draw.nx()\n",
    "G.remove.causal_edge_by_name(\"causal_edge\")\n",
    "print(\"Graph after remove\")\n",
    "G.draw.nx()\n",
    "print(f\"Now we have these individuals:\\n {list(G.store.individuals())}\")"
   ]
  },
  {
   "cell_type": "code",
   "execution_count": null,
   "id": "f9e9a67d",
   "metadata": {},
   "outputs": [],
   "source": [
    "# Remove one edge, between two nodes and show the rest of individuals:\n",
    "## adds two edges between 'cause' and 'effect'\n",
    "G.add.causal_node(\"another_effect\")\n",
    "G.add.causal_edge(\"cause\", \"effect\", \"edge_1\")\n",
    "G.add.causal_edge(\"effect\", \"cause\", \"edge_2\")\n",
    "G.add.causal_edge(\"cause\", \"another_effect\", \"edge_3\")\n",
    "G.add.causal_edge(\"effect\", \"another_effect\", \"edge_4\")\n",
    "print(\"Graph before remove\")\n",
    "G.draw.nx()\n",
    "print(f\"Now we have these individuals:\\n {list(G.store.individuals())}\")\n",
    "## deletes all edges between 'cause' and 'effect'.\n",
    "G.remove.causal_edges(\"cause\", \"effect\")\n",
    "print(\"Graph after remove\")\n",
    "G.draw.nx()\n",
    "print(f\"Now we have these individuals:\\n {list(G.store.individuals())}\")"
   ]
  },
  {
   "cell_type": "markdown",
   "id": "aecc2b04",
   "metadata": {},
   "source": [
    "remove all causalEdges which are connected with one causalNode"
   ]
  },
  {
   "cell_type": "code",
   "execution_count": null,
   "id": "ebacecb0",
   "metadata": {},
   "outputs": [],
   "source": [
    "# Remove one edge, between two nodes and show the rest of individuals:\n",
    "## adds two edges between 'cause' and 'effect'\n",
    "G.add.causal_node(\"another_cause\")\n",
    "G.add.causal_edge(\"cause\", \"effect\", \"edge_5\")\n",
    "G.add.causal_edge(\"effect\", \"cause\", \"edge_6\")\n",
    "G.add.causal_edge(\"another_effect\", \"another_cause\", \"edge_7\")\n",
    "print(\"Graph before remove\")\n",
    "G.draw.nx()\n",
    "print(f\"Now we have these individuals:\\n {list(G.store.individuals())}\")\n",
    "## deletes all edges that are connected with 'effect \n",
    "G.remove.causal_edges_from_node(\"effect\")\n",
    "print(\"Graph after remove\")\n",
    "G.draw.nx()\n",
    "print(f\"Now we have these individuals:\\n {list(G.store.individuals())}\")"
   ]
  }
 ],
 "metadata": {
  "kernelspec": {
   "display_name": "Python 3.10.4 ('causalgraph')",
   "language": "python",
   "name": "python3"
  },
  "language_info": {
   "codemirror_mode": {
    "name": "ipython",
    "version": 3
   },
   "file_extension": ".py",
   "mimetype": "text/x-python",
   "name": "python",
   "nbconvert_exporter": "python",
   "pygments_lexer": "ipython3",
   "version": "3.10.6 (main, Oct  7 2022, 20:19:58) [GCC 11.2.0]"
  },
  "vscode": {
   "interpreter": {
    "hash": "10e60118e15557b77f52e4e5cde274a31e702cb83202282b765a38d4d9e29b5c"
   }
  }
 },
 "nbformat": 4,
 "nbformat_minor": 5
}
