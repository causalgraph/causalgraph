{
 "cells": [
  {
   "attachments": {},
   "cell_type": "markdown",
   "id": "c55d2463",
   "metadata": {},
   "source": [
    "# Drawing graphs with Tigramite\n",
    "\n",
    "This tutorial describes how to visualize cg graphs using the package Tigramite. With causalgraph you can export a cg graph into the tigramite format or import the result of Tigramite's PCMCI algorithm into a cg graph. It is however not possible to visualize a cg graph with tigramite - that's what this tutorial shows."
   ]
  },
  {
   "attachments": {},
   "cell_type": "markdown",
   "id": "242753d8",
   "metadata": {},
   "source": [
    "First, import the required packages."
   ]
  },
  {
   "cell_type": "code",
   "execution_count": null,
   "id": "1e272f41",
   "metadata": {},
   "outputs": [],
   "source": [
    "# general imports\n",
    "import os\n",
    "import sys\n",
    "sys.path.insert(1, os.path.join(sys.path[0], '..'))\n",
    "import matplotlib.pyplot as plt\n",
    "# causalgraph imports\n",
    "from causalgraph import Graph\n",
    "# Tigramite import\n",
    "from tigramite import plotting as tp"
   ]
  },
  {
   "attachments": {},
   "cell_type": "markdown",
   "id": "5b023e2d",
   "metadata": {},
   "source": [
    "The method ```tigra_draw``` uses the dictionary representation of a graph.  \n",
    "It exports this dictionary to a Tigramite-compatible format which can then be plotted by the Tigramite plotting module."
   ]
  },
  {
   "cell_type": "code",
   "execution_count": null,
   "id": "edb72630",
   "metadata": {},
   "outputs": [],
   "source": [
    "def tigra_draw(graph, path = None, graph_dict = None) -> None:\n",
    "    \"\"\"Plots the graph with Tigramite methods. Parse a path (e.g. \"dir/plot.png\") to save the plot as an image.\n",
    "    By default, a plot of the whole graph will be generated, unless you parse another graph_dict explicitly.\n",
    "\n",
    "    :param path: Directory where the plot should be saved, defaults to None\n",
    "    :type path: str, optional\n",
    "    :param graph_dict: D ict that describes a graph with its nodes, edges and creators, defaults to None\n",
    "    :type graph_dict: dict, optional\n",
    "    \"\"\"\n",
    "    # If graph_dict hasn't been parsed, create one for the whole graph.\n",
    "    if graph_dict is None:\n",
    "        graph_dict = graph.map.all_individuals_to_dict()\n",
    "\n",
    "    node_names, _, link_matrix, _, _ = graph.export.tigra()\n",
    "    tp.plot_graph(link_matrix= link_matrix, var_names= node_names)\n",
    "    if path is not None:\n",
    "        plt.savefig(path, dpi=200)\n",
    "        print(f\"Plot saved at {path}.\")\n",
    "        return\n",
    "    plt.show()\n",
    "    plt.close()"
   ]
  },
  {
   "attachments": {},
   "cell_type": "markdown",
   "id": "a060ec77",
   "metadata": {},
   "source": [
    "An example cg graph is created and plotted using Tigramite."
   ]
  },
  {
   "cell_type": "code",
   "execution_count": null,
   "id": "f0db6320",
   "metadata": {},
   "outputs": [],
   "source": [
    "sql_test_db_path = \"test_draw.sqlite3\"\n",
    "graph = Graph(sql_db_filename=sql_test_db_path)\n",
    "# Add nodes and edges\n",
    "graph.add.causal_node(\"node_1\")\n",
    "graph.add.causal_node(\"node_2\")\n",
    "graph.add.causal_node(\"node_3\")\n",
    "graph.add.causal_node(\"node_4\")\n",
    "graph.add.causal_node(\"node_5\")\n",
    "graph.add.causal_edge(cause_node= \"node_1\",\n",
    "                      effect_node= \"node_2\",\n",
    "                      name_for_edge= \"edge_1\")\n",
    "graph.add.causal_edge(cause_node= \"node_2\",\n",
    "                      effect_node= \"node_3\",\n",
    "                      name_for_edge= \"edge_2\",\n",
    "                      confidence=0.2)\n",
    "graph.add.causal_edge(cause_node= \"node_3\",\n",
    "                      effect_node= \"node_4\",\n",
    "                      name_for_edge= \"edge_3\",\n",
    "                      time_lag_s=1.5)\n",
    "graph.add.causal_edge(cause_node= \"node_4\",\n",
    "                      effect_node= \"node_5\",\n",
    "                      name_for_edge= \"edge_4\",\n",
    "                      confidence=0.2,\n",
    "                      time_lag_s=1.5)\n",
    "# Plot and save image\n",
    "tigra_draw(graph, 'tigra.png')"
   ]
  },
  {
   "cell_type": "code",
   "execution_count": null,
   "id": "3b46472b",
   "metadata": {},
   "outputs": [],
   "source": []
  }
 ],
 "metadata": {
  "kernelspec": {
   "display_name": "Python 3.10.4 ('causalgraph')",
   "language": "python",
   "name": "python3"
  },
  "language_info": {
   "codemirror_mode": {
    "name": "ipython",
    "version": 3
   },
   "file_extension": ".py",
   "mimetype": "text/x-python",
   "name": "python",
   "nbconvert_exporter": "python",
   "pygments_lexer": "ipython3",
   "version": "3.10.6"
  },
  "vscode": {
   "interpreter": {
    "hash": "10e60118e15557b77f52e4e5cde274a31e702cb83202282b765a38d4d9e29b5c"
   }
  }
 },
 "nbformat": 4,
 "nbformat_minor": 5
}
