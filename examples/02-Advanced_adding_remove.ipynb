{
 "cells": [
  {
   "cell_type": "markdown",
   "id": "25697245",
   "metadata": {},
   "source": [
    "# causalgraph advanced add/remove\n",
    "\n",
    "The tutorial describes the advanced add/remove functionalities of the [causalgraph](https://gitlab.cc-asp.fraunhofer.de/kausalassist/causal-services/causalgraph) module.\n",
    "\n",
    "Required packages to run this tutorial are:\n",
    "- jupyter (to run this notebook)\n",
    "- [owlready2 0.35](https://owlready2.readthedocs.io/en/v0.35/) (backend for causalgraph store)\n",
    "\n",
    "\n",
    "### Beneficial prior knowledge\n",
    "causalgraph (cg) relies on semantic technology, mainly through the python package 'owlready2'.\n",
    "The core functions are already implemented in owlready2 and wrapped in cg to avoid misuse.\n",
    "\n",
    "Therefore the author advises to look at the tool [owlready2](https://owlready2.readthedocs.io/en/v0.35/) and get to know some essential functions of it. Especially the tutorial on [creating individuals](https://owlready2.readthedocs.io/en/v0.35/class.html) is an excellent basic knowledge to get the inner workings of cg.\n",
    "\n",
    "Furthermore, the tutorial 01-Basics_of_causalgraph helps."
   ]
  },
  {
   "cell_type": "markdown",
   "id": "ab562bc7",
   "metadata": {},
   "source": [
    "### Covered topics in this tutorial\n",
    "\n",
    "Functions introduced:\n",
    "- add causal_edges with confidence and timelag\n",
    "- remove nodes\n",
    "\n",
    "\n",
    "#### CausalNodes and CausalEdges\n",
    "The most important concept for this tutorial is the relation between [*CausalNodes*](https://kausalassist.pages.fraunhofer.de/causal-services/causalgraph-ontology/#CausalNode) and [*CausalEdges*](https://kausalassist.pages.fraunhofer.de/causal-services/causalgraph-ontology/#CausalEdge). \n",
    "\n",
    "##### CausalNodes\n",
    "A CausalNode can either represent an effect, a cause or both (e.g. effect of Node1 and cause for Node3). CausalNodes are no causally connected with a direct link, but through an Individual of Type *CausalEdge*:\n",
    "\n",
    "##### CausalEdges\n",
    "The CausalEdge is introduced to hold further information about the causal connection. E.g.:\n",
    "- *Confidence* (in it's existence), \n",
    "- *Creator* (Human Expert or ML-Algorithm), \n",
    "- *TimeLag in seconds* between Cause and Effect,\n",
    "- ... \n",
    "\n",
    "This is modeled similarily to this picture in *causalgraph-ontology* (see documentation of [*CausalEdges*](https://kausalassist.pages.fraunhofer.de/causal-services/causalgraph-ontology/#CausalEdge)):\n",
    "\n",
    "![](https://mermaid.ink/svg/eyJjb2RlIjoiZ3JhcGggVERcbiAgICBzdWJncmFwaCBDYXVzYWwgU3RydWN0dXJlXG4gICAgICAgIEVkZ2V7Q2F1c2FsRWRnZX0gLS0-IHxoYXNfY2F1c2V8IE5vZGUxKENhdXNhbE5vZGUpXG4gICAgICAgIEVkZ2UgLS0-IHxoYXNfZWZmZWN0fCBOb2RlMihDYXVzYWxOb2RlKVxuICAgIGVuZCBcbiAgICBzdWJncmFwaCBBZGRpdG9uYWwgQ2F1c2FsIEVkZ2UgSW5mb3JtYXRpb25cbiAgICAgICAgRWRnZSAtLT4gfGhhc19jcmVhdG9yfCBDcmVhdG9yWy4uLkNyZWF0b3JdXG4gICAgICAgIEVkZ2UgLS0-IHxoYXNfdGltZV9sYWd8IFRpbWVsYWdbLi4uVGltZWxhZ11cbiAgICBlbmRcbiAgICAiLCJtZXJtYWlkIjp7InRoZW1lIjoiZGVmYXVsdCJ9LCJ1cGRhdGVFZGl0b3IiOmZhbHNlLCJhdXRvU3luYyI6dHJ1ZSwidXBkYXRlRGlhZ3JhbSI6ZmFsc2V9)\n",
    "\n"
   ]
  },
  {
   "cell_type": "markdown",
   "id": "22cd0dac",
   "metadata": {},
   "source": [
    "## Working with the 'cg' module\n",
    "\n",
    "### Loading the module\n",
    "The facade class for the module is 'Graph' which is loaded below."
   ]
  },
  {
   "cell_type": "code",
   "execution_count": null,
   "id": "84f0a453",
   "metadata": {},
   "outputs": [],
   "source": [
    "# add the current path to the sys.path to find 'causalgraph.Graph'\n",
    "import os\n",
    "import sys\n",
    "import time\n",
    "sys.path.insert(1, os.path.join(sys.path[0], '..'))\n",
    "# causalgraph imports\n",
    "from causalgraph import Graph\n",
    "import causalgraph.utils.owlready2_utils as owl2utils\n",
    "from causalgraph.utils.path_utils import get_project_root\n",
    "print(get_project_root())"
   ]
  },
  {
   "cell_type": "markdown",
   "id": "bae597db",
   "metadata": {},
   "source": [
    "### Instantiate the 'Graph'\n",
    "\n",
    "During instantiation, the '**Graph**' loads the class-structure-defining ontology ('onto' in the examples at [owlready2-docs](https://owlready2.readthedocs.io/en/v0.35/onto.html)) into **Graph.store**. \n",
    "\n",
    "This ontology and the individuals created from it are saved in sqlite3 quadstore, which is linked by attribute **Graph.world**. To read more about an owlready2.World please refer to ['owlready2.World'](https://owlready2.readthedocs.io/en/v0.35/world.html)."
   ]
  },
  {
   "cell_type": "code",
   "execution_count": null,
   "id": "e1ba834e",
   "metadata": {},
   "outputs": [],
   "source": [
    "# Specify new sqlite db for this example\n",
    "# delete old SQL-DB if exists (restart of kernel may be necessary):\n",
    "sql_file_name='example1.sqlite3'\n",
    "if os.path.exists(sql_file_name):\n",
    "    os.remove(sql_file_name)\n",
    "    print(f\"Deleted old db with name {sql_file_name}\")"
   ]
  },
  {
   "cell_type": "markdown",
   "id": "e5d086c9",
   "metadata": {},
   "source": [
    "#### Add CausalNodes and CausalEdges\n",
    "\n",
    "All the ```Add``` functions are grouped in the Object ```Graph.add```. Therefore one can add CausalEdges and CausalNodes in the following way:"
   ]
  },
  {
   "cell_type": "code",
   "execution_count": null,
   "id": "c49a45b2",
   "metadata": {},
   "outputs": [],
   "source": [
    "# init graph\n",
    "G = Graph(sql_db_filename=sql_file_name)\n",
    "# add nodes\n",
    "G.add.causal_node(\"cause\")\n",
    "G.add.causal_node(\"effect\")\n",
    "# add edge\n",
    "G.add.causal_edge(\"cause\", \"effect\", \"causal_edge\")\n",
    "# show graph\n",
    "G.draw.nx()"
   ]
  },
  {
   "cell_type": "markdown",
   "id": "3ba23c8b",
   "metadata": {},
   "source": [
    "### Advanced adding \n",
    "\n",
    "Timelag and confidence can be added, e.g. shown with the following:"
   ]
  },
  {
   "cell_type": "code",
   "execution_count": null,
   "id": "418a33de",
   "metadata": {},
   "outputs": [],
   "source": [
    "# Advanced calling with confidence and time_lag. Comments can be added as well\n",
    "# Add two CausalNodes and show these individuals in graph\n",
    "G.add.causal_node(\"another_effect\")\n",
    "G.add.causal_edge(\"effect\", \"another_effect\", confidence=0.2, time_lag_s=1.5, comment=[\"An edge between effect and another effect.\"])\n",
    "G.draw.nx()"
   ]
  },
  {
   "cell_type": "markdown",
   "id": "801d7bab",
   "metadata": {},
   "source": [
    "#### Adding a creator node\n",
    "A Creator can be added with the following:"
   ]
  },
  {
   "cell_type": "code",
   "execution_count": null,
   "id": "f04c0305",
   "metadata": {},
   "outputs": [],
   "source": [
    "# Add creator 'master_creator' \n",
    "creator_node_name = G.add.individual_of_type(\"Creator\", name_for_individual=\"master_creator\")\n",
    "creator_node = G.get_entity(creator_node_name)\n",
    "print(creator_node_name)\n",
    "\n",
    "# Add creator 'master_creator' to causal_node and causal_edge\n",
    "G.add.causal_node(\"nodewithcreator\", hasCreator=[creator_node])\n",
    "new_edge = G.add.causal_edge(\"effect\", \"another_effect\", \"new_edge\", confidence=0.2, time_lag_s=1.5, hasCreator=[creator_node])\n",
    "G.draw.nx()\n",
    "# Inspect properties of new_edge\n",
    "inspected_node = G.get_entity(new_edge)\n",
    "for prop in inspected_node.get_properties():\n",
    "    for value in prop[inspected_node]:\n",
    "        print(\".%s == %s\" % (prop.python_name, value))"
   ]
  },
  {
   "cell_type": "markdown",
   "id": "aa9a8842",
   "metadata": {},
   "source": [
    "# Remove CausalNodes and CausalEdges\n",
    "All the 'Remove' functions are grouped in the Object *Graph.remove*. Therefore one can remove CausalEdges and CausalNodes as follows:"
   ]
  },
  {
   "cell_type": "markdown",
   "id": "4c89ca8f",
   "metadata": {},
   "source": [
    "remove causal nodes"
   ]
  },
  {
   "cell_type": "code",
   "execution_count": null,
   "id": "816d3b01",
   "metadata": {},
   "outputs": [],
   "source": [
    "# Remove two CausalNodes and show the rest of individuals:\n",
    "print(\"Graph before remove\")\n",
    "print(f\"Now we have these individuals:\\n {list(G.store.individuals())}\")\n",
    "G.draw.nx()\n",
    "G.remove.causal_node(\"nodewithcreator\")\n",
    "print(\"Graph after remove\")\n",
    "G.draw.nx()\n",
    "print(f\"Now we have these individuals:\\n {list(G.store.individuals())}\")"
   ]
  },
  {
   "cell_type": "markdown",
   "id": "f7f4b1c4",
   "metadata": {},
   "source": [
    "remove causal edges "
   ]
  },
  {
   "cell_type": "code",
   "execution_count": null,
   "id": "94f14990",
   "metadata": {},
   "outputs": [],
   "source": [
    "# Remove one edge and show the rest of individuals:\n",
    "print(\"Graph before remove\")\n",
    "G.draw.nx()\n",
    "G.remove.causal_edge_by_name(\"causal_edge\")\n",
    "print(\"Graph after remove\")\n",
    "G.draw.nx()\n",
    "print(f\"Now we have these individuals:\\n {list(G.store.individuals())}\")"
   ]
  },
  {
   "cell_type": "markdown",
   "id": "d5fd90ab",
   "metadata": {},
   "source": [
    "remove all causal edges between two causal nodes"
   ]
  },
  {
   "cell_type": "code",
   "execution_count": null,
   "id": "8f72b6b7",
   "metadata": {},
   "outputs": [],
   "source": [
    "# Remove one edge, between two nodes and show the rest of individuals:\n",
    "## adds two edges between 'cause' and 'effect'\n",
    "G.add.causal_edge(\"cause\", \"effect\", \"edge_1\")\n",
    "G.add.causal_edge(\"effect\", \"cause\", \"edge_2\")\n",
    "G.add.causal_edge(\"cause\", \"another_effect\", \"edge_3\")\n",
    "G.add.causal_edge(\"effect\", \"another_effect\", \"edge_4\")\n",
    "print(\"Graph before remove\")\n",
    "G.draw.nx()\n",
    "print(f\"Now we have these individuals:\\n {list(G.store.individuals())}\")\n",
    "## deletes all edges between 'cause' and 'effect'.\n",
    "G.remove.causal_edges(\"cause\", \"effect\")\n",
    "print(\"Graph after remove\")\n",
    "G.draw.nx()\n",
    "print(f\"Now we have these individuals:\\n {list(G.store.individuals())}\")"
   ]
  },
  {
   "cell_type": "markdown",
   "id": "7450aa30",
   "metadata": {},
   "source": [
    "remove all causalEdges which are connected with one causalNode"
   ]
  },
  {
   "cell_type": "code",
   "execution_count": null,
   "id": "e463c3d2",
   "metadata": {},
   "outputs": [],
   "source": [
    "# Remove one edge, between two nodes and show the rest of individuals:\n",
    "## adds two edges between 'cause' and 'effect'\n",
    "G.add.causal_node(\"another_cause\")\n",
    "G.add.causal_edge(\"cause\", \"effect\", \"edge_5\")\n",
    "G.add.causal_edge(\"effect\", \"cause\", \"edge_6\")\n",
    "G.add.causal_edge(\"another_effect\", \"another_cause\", \"edge_7\")\n",
    "print(\"Graph before remove\")\n",
    "G.draw.nx()\n",
    "print(f\"Now we have these individuals:\\n {list(G.store.individuals())}\")\n",
    "## deletes all edges that are connected with 'effect' \n",
    "G.remove.causal_edges_from_node(\"effect\")\n",
    "print(\"Graph after remove\")\n",
    "G.draw.nx()\n",
    "print(f\"Now we have these individuals:\\n {list(G.store.individuals())}\")"
   ]
  },
  {
   "cell_type": "markdown",
   "id": "f9a8a0e6",
   "metadata": {},
   "source": [
    "#### Removing a creator node\n",
    "A Creator can be removed with the following:"
   ]
  },
  {
   "cell_type": "code",
   "execution_count": null,
   "id": "5992021d",
   "metadata": {},
   "outputs": [],
   "source": [
    "# Add creator 'test_creator' \n",
    "creator_node_name = G.add.individual_of_type(\"Creator\", \"test_creator\")\n",
    "print(f\"Now, we have these individuals:\\n {list(G.store.individuals())}\")\n",
    "# Delete creator 'test_creator' \n",
    "G.remove.delete_individual_of_type(\"test_creator\", 'Creator')\n",
    "print(f\"Now, we have these individuals:\\n {list(G.store.individuals())}\")"
   ]
  },
  {
   "cell_type": "code",
   "execution_count": null,
   "id": "3b500c28",
   "metadata": {},
   "outputs": [],
   "source": []
  }
 ],
 "metadata": {
  "kernelspec": {
   "display_name": "Python 3.10.4 ('causalgraph')",
   "language": "python",
   "name": "python3"
  },
  "language_info": {
   "codemirror_mode": {
    "name": "ipython",
    "version": 3
   },
   "file_extension": ".py",
   "mimetype": "text/x-python",
   "name": "python",
   "nbconvert_exporter": "python",
   "pygments_lexer": "ipython3",
   "version": "3.10.6 (main, Oct  7 2022, 20:19:58) [GCC 11.2.0]"
  },
  "vscode": {
   "interpreter": {
    "hash": "10e60118e15557b77f52e4e5cde274a31e702cb83202282b765a38d4d9e29b5c"
   }
  }
 },
 "nbformat": 4,
 "nbformat_minor": 5
}
