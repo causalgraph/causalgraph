{
 "cells": [
  {
   "attachments": {},
   "cell_type": "markdown",
   "metadata": {},
   "source": [
    "# Mapping properties to dictionary and the other way around\n",
    "\n",
    "### Converting properties to a dictionary"
   ]
  },
  {
   "cell_type": "code",
   "execution_count": null,
   "metadata": {},
   "outputs": [],
   "source": [
    "import os\n",
    "import sys\n",
    "sys.path.append('../causalgraph/store/')\n",
    "sys.path.insert(1, os.path.join(sys.path[0], '..'))\n",
    "import json\n",
    "# causalgraph imports\n",
    "from causalgraph import Graph\n",
    "import causalgraph.utils.owlready2_utils as owl2utils"
   ]
  },
  {
   "cell_type": "code",
   "execution_count": null,
   "metadata": {},
   "outputs": [],
   "source": [
    "# Specify new sqlite db for this example\n",
    "# delete old SQL-DB if exists (restart of kernel may be necessary):\n",
    "sql_file_name='example1.sqlite3'\n",
    "if os.path.exists(sql_file_name):\n",
    "    os.remove(sql_file_name)\n",
    "    print(f\"Deleted old db with name {sql_file_name}\")"
   ]
  },
  {
   "cell_type": "code",
   "execution_count": null,
   "metadata": {},
   "outputs": [],
   "source": [
    "# init graph\n",
    "G = Graph(sql_db_filename=sql_file_name)\n",
    "# add creators\n",
    "creator_node = G.add.individual_of_type(\"Creator\", name_for_individual=\"master_creator\")\n",
    "# add nodes\n",
    "G.add.causal_node(\"node_1\")\n",
    "G.add.causal_node(\"node_2\")\n",
    "G.add.causal_node(\"node_3\")\n",
    "G.add.causal_node(\"node_4_c\", hasCreator=[creator_node])\n",
    "# add edges\n",
    "G.add.causal_edge(\"node_1\", \"node_2\", \"edge_1\")\n",
    "G.add.causal_edge(\"node_2\", \"node_3\", \"edge_2\", confidence=0.5, time_lag_s=3.5)\n",
    "G.add.causal_edge(\"node_3\", \"node_4_c\", \"edge_3_c\", confidence=0.2, time_lag_s=1.5, hasCreator=[creator_node])"
   ]
  },
  {
   "cell_type": "code",
   "execution_count": null,
   "metadata": {},
   "outputs": [],
   "source": [
    "# Convert properties of the whole cg graph to dict\n",
    "graph_dict = G.map.all_individuals_to_dict()\n",
    "print(json.dumps(graph_dict, indent=4, sort_keys=True))"
   ]
  },
  {
   "attachments": {},
   "cell_type": "markdown",
   "metadata": {},
   "source": [
    "## Updating properties from a dictionary"
   ]
  },
  {
   "cell_type": "code",
   "execution_count": null,
   "metadata": {},
   "outputs": [],
   "source": [
    "sql_file_name='example2.sqlite3'\n",
    "if os.path.exists(sql_file_name):\n",
    "    os.remove(sql_file_name)\n",
    "    print(f\"Deleted old db with name {sql_file_name}\")"
   ]
  },
  {
   "cell_type": "code",
   "execution_count": null,
   "metadata": {},
   "outputs": [],
   "source": [
    "# init Graph\n",
    "G_n = Graph(sql_db_filename=sql_file_name)\n",
    "# add creators\n",
    "creator_1 = G_n.add.individual_of_type(\"Creator\", name_for_individual=\"creator_1\")\n",
    "# add nodes\n",
    "G_n.add.causal_node(\"node_1\")\n",
    "G_n.add.causal_node(\"node_2\")\n",
    "G_n.add.causal_node(\"node_3\")\n",
    "G_n.add.causal_node(\"node_4\")\n",
    "# add edges\n",
    "G_n.add.causal_edge(\"node_1\", \"node_2\", \"edge_1_c\", time_lag_s=1, confidence=0.5, hasCreator=[creator_1])\n",
    "G_n.add.causal_edge(\"node_3\", \"node_4\", \"edge_2_c\", time_lag_s=5, confidence=0.25)"
   ]
  },
  {
   "cell_type": "code",
   "execution_count": null,
   "metadata": {},
   "outputs": [],
   "source": [
    "graph_dict_old = G_n.map.all_individuals_to_dict()\n",
    "graph_dict_new = {\n",
    "    \"creator_1\": {\n",
    "        \"created\": [\n",
    "            \"node_1\",       # new\n",
    "            \"edge_1_c\"      \n",
    "        ],\n",
    "        \"type\": \"Creator\"\n",
    "    },\n",
    "    \"edge_1_c\": {\n",
    "        \"cause\": [\n",
    "            \"node_2\"        # new\n",
    "        ],\n",
    "        \"confidence\": 1,    # new\n",
    "        \"creator\": [\n",
    "            \"creator_1\"\n",
    "        ],\n",
    "        \"effect\": [\n",
    "            \"node_4\"        # new\n",
    "        ],\n",
    "        \"time_lag_s\": 1,\n",
    "        \"type\": \"CausalEdge\"\n",
    "    },\n",
    "    \"edge_2_c\": {\n",
    "        \"cause\": [\n",
    "            \"node_1\"        # new\n",
    "        ],\n",
    "        \"confidence\": 0.5,  # new\n",
    "        \"effect\": [\n",
    "            \"node_3\"        # new\n",
    "        ],\n",
    "        \"time_lag_s\": 10,   # new\n",
    "        \"type\": \"CausalEdge\"\n",
    "    },\n",
    "    \"node_1\": {\n",
    "        \"causing\": [\n",
    "            \"edge_2_c\"      # new\n",
    "        ],\n",
    "        \"creator\": [\n",
    "            \"creator_1\"     # new\n",
    "        ],                  \n",
    "        \"type\": \"CausalNode\"\n",
    "    },\n",
    "    \"node_2\": {\n",
    "        \"causing\": [\n",
    "            \"edge_1_c\"      # new\n",
    "        ],\n",
    "        \"type\": \"CausalNode\"\n",
    "    },\n",
    "    \"node_3\": {\n",
    "        \"affected_by\": [\n",
    "            \"edge_2_c\"      # new\n",
    "        ],\n",
    "        \"type\": \"CausalNode\"\n",
    "    },\n",
    "    \"node_4\": {\n",
    "        \"affected_by\": [\n",
    "            \"edge_1_c\"      # new\n",
    "        ],\n",
    "        \"type\": \"CausalNode\"\n",
    "    }\n",
    "}\n"
   ]
  },
  {
   "cell_type": "code",
   "execution_count": null,
   "metadata": {},
   "outputs": [],
   "source": [
    "G_n.draw.nx()"
   ]
  }
 ],
 "metadata": {
  "kernelspec": {
   "display_name": "Python 3.10.6 ('causalgraph')",
   "language": "python",
   "name": "python3"
  },
  "language_info": {
   "codemirror_mode": {
    "name": "ipython",
    "version": 3
   },
   "file_extension": ".py",
   "mimetype": "text/x-python",
   "name": "python",
   "nbconvert_exporter": "python",
   "pygments_lexer": "ipython3",
   "version": "3.10.6"
  },
  "vscode": {
   "interpreter": {
    "hash": "10e60118e15557b77f52e4e5cde274a31e702cb83202282b765a38d4d9e29b5c"
   }
  }
 },
 "nbformat": 4,
 "nbformat_minor": 2
}
